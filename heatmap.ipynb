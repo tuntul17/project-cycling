{
  "nbformat": 4,
  "nbformat_minor": 0,
  "metadata": {
    "colab": {
      "provenance": [],
      "mount_file_id": "1fP2a5a0GPiQHc6EjuDO-b6MM3e8NJ_oF",
      "authorship_tag": "ABX9TyNSqCScs3a/qhfp78YxmpeR",
      "include_colab_link": true
    },
    "kernelspec": {
      "name": "python3",
      "display_name": "Python 3"
    },
    "language_info": {
      "name": "python"
    }
  },
  "cells": [
    {
      "cell_type": "markdown",
      "metadata": {
        "id": "view-in-github",
        "colab_type": "text"
      },
      "source": [
        "<a href=\"https://colab.research.google.com/github/tuntul17/project-cycling/blob/main/heatmap.ipynb\" target=\"_parent\"><img src=\"https://colab.research.google.com/assets/colab-badge.svg\" alt=\"Open In Colab\"/></a>"
      ]
    },
    {
      "cell_type": "code",
      "execution_count": 1,
      "metadata": {
        "id": "Plzyan2Z4BUm"
      },
      "outputs": [],
      "source": [
        "import pandas as pd\n",
        "from folium.plugins import HeatMap\n",
        "import folium\n",
        "\n",
        "df = pd.read_csv(\"/content/drive/MyDrive/Colab Notebooks/Cycling-adventures/data/output_data/convertedrides.csv\")\n",
        "\n"
      ]
    },
    {
      "cell_type": "code",
      "source": [
        "position_lat = df[\"position_lat\"].mean()\n",
        "position_long = df[\"position_long\"].mean()\n",
        "\n",
        "df[\"position_long\"] = df[\"position_long\"].fillna(position_long)\n",
        "df[\"position_lat\"] = df[\"position_lat\"].fillna(position_lat)"
      ],
      "metadata": {
        "id": "UR93g-Ip-uok"
      },
      "execution_count": 12,
      "outputs": []
    },
    {
      "cell_type": "code",
      "source": [
        "#df.fillna(df.mean())\n",
        "# Create a map centered at a specific location (e.g., the mean coordinates of your data)\n",
        "map_center = [df['position_lat'].mean(), df['position_long'].mean()]\n",
        "m = folium.Map(location=map_center, zoom_start=10)  # Adjust the zoom level as needed\n",
        "\n",
        "# Create a list of latitude and longitude coordinates as a list of lists\n",
        "heat_data = [[row['position_lat'], row['position_long']] for index, row in df.iterrows()]\n",
        "heatmap_layer = HeatMap(heat_data, radius=10)\n",
        "# Add the heatmap layer to the map\n",
        "heatmap_layer.add_to(m)\n",
        "\n",
        "\n",
        "# Save the map as an HTML file or display it\n",
        "m.save('/content/drive/MyDrive/Colab Notebooks/Cycling-adventures/data/output_data/roadmap.html')\n"
      ],
      "metadata": {
        "id": "wUjfrUttROo-"
      },
      "execution_count": 17,
      "outputs": []
    },
    {
      "cell_type": "markdown",
      "source": [
        "The file can be seen from here:\n",
        "https://drive.google.com/file/d/1Fd0FKHfNmuqt3IGhjxFeA60Pugvh3h1Q/view?usp=sharing"
      ],
      "metadata": {
        "id": "ngh7wCMdDDrU"
      }
    }
  ]
}
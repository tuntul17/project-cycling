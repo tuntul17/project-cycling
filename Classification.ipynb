{
  "nbformat": 4,
  "nbformat_minor": 0,
  "metadata": {
    "colab": {
      "provenance": [],
      "mount_file_id": "1WtfctYAJMKfYGCG_lasQ4dc3uBnohr8F",
      "authorship_tag": "ABX9TyOjiZQRfMPitbwIQS5wRXMw",
      "include_colab_link": true
    },
    "kernelspec": {
      "name": "python3",
      "display_name": "Python 3"
    },
    "language_info": {
      "name": "python"
    }
  },
  "cells": [
    {
      "cell_type": "markdown",
      "metadata": {
        "id": "view-in-github",
        "colab_type": "text"
      },
      "source": [
        "<a href=\"https://colab.research.google.com/github/tuntul17/project-cycling/blob/main/Classification.ipynb\" target=\"_parent\"><img src=\"https://colab.research.google.com/assets/colab-badge.svg\" alt=\"Open In Colab\"/></a>"
      ]
    },
    {
      "cell_type": "code",
      "execution_count": 1,
      "metadata": {
        "id": "5ZdrRxAw3fSe"
      },
      "outputs": [],
      "source": [
        "import numpy as np\n",
        "import pandas as pd\n",
        "from pylab import *\n",
        "import seaborn as sns # just in case\n",
        "from sklearn.preprocessing import MinMaxScaler\n",
        "from sklearn.model_selection import train_test_split\n",
        "from sklearn.ensemble import RandomForestClassifier\n",
        "from sklearn.cluster import KMeans"
      ]
    },
    {
      "cell_type": "code",
      "source": [
        "df = pd.read_csv(\"/content/drive/MyDrive/Colab Notebooks/Cycling-adventures/data/output_data/cleanNsummed.csv\")"
      ],
      "metadata": {
        "id": "pVHFo_V05puR"
      },
      "execution_count": 2,
      "outputs": []
    },
    {
      "cell_type": "code",
      "source": [
        "#Usage ==0 has missing value which may effect the result!\n",
        "df = df[df[\"Usage\"]==1].reset_index()\n",
        "df.drop([\"index\"],axis=1,inplace=True)"
      ],
      "metadata": {
        "id": "m6t6RB455798"
      },
      "execution_count": 3,
      "outputs": []
    },
    {
      "cell_type": "code",
      "source": [
        "t_cor = df[df.columns[:-2]].corr()\n",
        "figure(figsize=(10,8))\n",
        "sns.heatmap(t_cor, annot=True)\n",
        "savefig(\"/content/drive/MyDrive/Colab Notebooks/Cycling-adventures/data/output_data/Correlation.jpg\")\n",
        "close()"
      ],
      "metadata": {
        "id": "GpSZZJ6S7w90"
      },
      "execution_count": null,
      "outputs": []
    },
    {
      "cell_type": "code",
      "source": [
        "# Create a MinMaxScaler object\n",
        "scaler = MinMaxScaler()\n",
        "\n",
        "# Fit and transform the data\n",
        "scaled_data = scaler.fit_transform(df[df.columns[2:-2]])\n",
        "\n",
        "# Create a DataFrame for the scaled data\n",
        "scaled_df = pd.DataFrame(scaled_data, columns=df.columns[2:-2])\n",
        "\n",
        "# Concatenate the scaled DataFrame with the last two columns of the original DataFrame\n",
        "df1 = pd.concat([scaled_df, df[df.columns[-2:]]], axis=1)\n"
      ],
      "metadata": {
        "id": "C4rgqWxa7sxM"
      },
      "execution_count": 5,
      "outputs": []
    },
    {
      "cell_type": "code",
      "source": [
        "# Create an empty list to store the inertia (within-cluster sum of squares) values\n",
        "inertia = []\n",
        "# Define the range of K values\n",
        "k_values = range(1,10)\n",
        "# Fit K-Means for each K and calculate inertia\n",
        "for k in k_values:\n",
        "    kmeans = KMeans(n_clusters=k, random_state=42)\n",
        "    kmeans.fit(df1[df1.columns[:-2]])  # Replace 'scaled_data' with your scaled feature matrix\n",
        "    inertia.append(kmeans.inertia_)\n"
      ],
      "metadata": {
        "id": "Mcj8_kAC58oB"
      },
      "execution_count": null,
      "outputs": []
    },
    {
      "cell_type": "code",
      "source": [
        "# Plot the elbow curve\n",
        "figure(figsize=(8, 6))\n",
        "plot(k_values, inertia, marker='o', linestyle='-', color='b')\n",
        "xlabel('Number of Clusters (K)')\n",
        "ylabel('Inertia')\n",
        "title('Elbow Method for Optimal K')\n",
        "grid(True)\n",
        "savefig(\"/content/drive/MyDrive/Colab Notebooks/Cycling-adventures/data/output_data/ElbowMethod.jpg\")\n",
        "close()"
      ],
      "metadata": {
        "id": "zpbZVcqt-_or"
      },
      "execution_count": 14,
      "outputs": []
    },
    {
      "cell_type": "code",
      "source": [
        "# Create a K-Means instance with the optimal number of clusters (e.g., k_optimal)\n",
        "kmeans = KMeans(n_clusters=4, random_state=42)\n",
        "\n",
        "# Fit K-Means to your scaled data\n",
        "#cluster_labels = kmeans.fit_predict(df1[:-2])\n",
        "# Fit K-Means to your scaled data\n",
        "cluster_labels = kmeans.fit_predict(df1[df1.columns[:-2]])  # Exclude the last two rows and the 'Cluster' column\n",
        "\n",
        "# Assign cluster labels to a new column in df1\n",
        "df1['Cluster'] = cluster_labels"
      ],
      "metadata": {
        "id": "SnPJN-31_HIW"
      },
      "execution_count": null,
      "outputs": []
    },
    {
      "cell_type": "code",
      "source": [
        "# Assuming 'df' is your original DataFrame and 'cluster_labels' contains cluster assignments\n",
        "df1['Cluster'] = cluster_labels  # Add cluster assignments as a new column\n",
        "\n",
        "# Calculate the mean of each feature within each cluster\n",
        "cluster_means = (df1.groupby('Cluster')[df1.columns[:-3]].mean()).transpose()\n",
        "\n",
        "# Create a heatmap\n",
        "plt.figure(figsize=(14, 7))\n",
        "sns.heatmap(cluster_means*10, cmap='coolwarm', annot=True)\n",
        "plt.title('Feature Means by Cluster')\n",
        "savefig(\"/content/drive/MyDrive/Colab Notebooks/Cycling-adventures/data/output_data/FeatureMeans.jpg\")\n",
        "close()\n"
      ],
      "metadata": {
        "id": "Wuv4RLU7_SL_"
      },
      "execution_count": 15,
      "outputs": []
    },
    {
      "cell_type": "markdown",
      "source": [
        "* Cluster == 0: Long Z2 Rides\n",
        "* Cluster == 1: Short Z2 Rides\n",
        "* Cluster == 2: Short Tempo Rides\n",
        "* Cluster == 3: Coffe&Gossip Rides"
      ],
      "metadata": {
        "id": "xAfdjfJIfSWR"
      }
    },
    {
      "cell_type": "code",
      "source": [],
      "metadata": {
        "id": "UgjAxE5X7Pyk"
      },
      "execution_count": null,
      "outputs": []
    },
    {
      "cell_type": "code",
      "source": [
        "df = df.merge(df1[[\"Cluster\",\"id\"]],on=\"id\",how=\"inner\")\n",
        "df.to_csv(\"/content/drive/MyDrive/Colab Notebooks/Cycling-adventures/data/output_data/clustered_summ.csv\")"
      ],
      "metadata": {
        "id": "G7_hETBfnSOV"
      },
      "execution_count": 10,
      "outputs": []
    },
    {
      "cell_type": "code",
      "source": [
        "df2 = df1.drop([\"id\",\"Usage\"],axis=1)\n",
        "# Calculate means and standard deviations of features within each cluster\n",
        "cluster_means = df2.groupby('Cluster').mean()*10\n",
        "cluster_std = df2.groupby('Cluster').std()*10\n",
        "\n",
        "# Create cluster profiles with error bars\n",
        "plt.figure(figsize=(12, 8))\n",
        "for i, cluster in enumerate(cluster_means.index):\n",
        "    plt.errorbar(\n",
        "        range(len(cluster_means.columns)),\n",
        "        cluster_means.loc[cluster],\n",
        "        yerr=cluster_std.loc[cluster] / np.sqrt(len(df1[df1['Cluster'] == cluster])),\n",
        "        label=f'Cluster {cluster}',\n",
        "        marker='o',\n",
        "    )\n",
        "\n",
        "plt.xticks(range(len(cluster_means.columns)), cluster_means.columns, rotation=45)\n",
        "plt.xlabel('Features')\n",
        "plt.ylabel('Feature Values')\n",
        "plt.title('Cluster Profiles')\n",
        "plt.legend()\n",
        "plt.grid(True)\n",
        "plt.savefig(\"/content/drive/MyDrive/Colab Notebooks/Cycling-adventures/data/output_data/ClusterProfile.jpg\")\n",
        "plt.close()"
      ],
      "metadata": {
        "id": "hZF9II5Riodi"
      },
      "execution_count": 16,
      "outputs": []
    }
  ]
}